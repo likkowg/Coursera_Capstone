{
 "cells": [
  {
   "cell_type": "markdown",
   "metadata": {},
   "source": [
    "<h1 align=\"center\">The Battle of Neighborhoods</h1>"
   ]
  },
  {
   "cell_type": "markdown",
   "metadata": {},
   "source": [
    "<h3 align=\"left\">Introduction</h3>\n",
    "\n",
    "<p> Given the reccomentations in the introductory part of the course, the problem that has been taken as reference for this proyect is the entrepreneurship of new businesses among the districts of Lima, Peru, specialy food related businesses. In this project in particular, our scope is to determine the most convenient district where a restaurant can be oppened.\n",
    "\n",
    "Regarding to the people who might be interested in this project, beyond an academic scope, what is sought is to give solutions to real problems using Data Science, so the interest group is broad-spectrum, students related to statistics or data scienceas well as small entrepreneurs who are looking for reasons to open their own business. </p>\n"
   ]
  },
  {
   "cell_type": "markdown",
   "metadata": {},
   "source": [
    "<h3 align=\"left\">Data</h3>\n",
    "\n",
    "<p> As for the data used for this project, it is mainly collected from different websites such as Wikipedia, to obtain the list of districts of the city of Lima: </p>\n",
    "\n",
    "![title](1.png)\n",
    "\n",
    "<br>\n",
    "<br>\n",
    "\n",
    "<p> Regarding to the people who might be interested in this project, beyond an academic scope, what is sought is to give solutions to real problems using Data Science, so the interest group is broad-spectrum, students related to statistics or data scienceas well as small entrepreneurs who are looking for reasons to open their own business. </p>\n",
    "\n",
    "![title](2.png)"
   ]
  },
  {
   "cell_type": "markdown",
   "metadata": {},
   "source": [
    "<h3 align=\"left\">Methodology</h3>\n",
    "\n",
    "<p> As for the methodology used in the project, it is divided between different phases. From the analysis and understanding of the problem to the construction of the model for its subsequent analysis. </p>\n",
    "\n",
    "<br>\n",
    "\n",
    "<p> In this part of the process, it was determined that the project would be focusing on the restaurants around the Lima districts, as well as determining the optimal place for the opening of a new restaurant, however, other factors that will not be taken into account due to the scope of this project. These factors can influence the final result, so the conclusion of this project should be taken only as a reference but not as a final solution. </p>\n",
    "\n",
    "<br>\n",
    "\n",
    "<p> Having the problem and the conditions clarified, we used web scrapping to find the list of districts of the city of Lima that will later be used for its analysis. </p>\n",
    "\n",
    "![title](3.png)\n",
    "\n",
    "<br>\n",
    "\n",
    "<p> After that, the API provided by FOURSQUARE was used to extract the pertinent information from the venues surrounding the different districts.</p>\n",
    "\n",
    "![title](4.png)\n",
    "\n",
    "<br>\n",
    "\n",
    "<p> Having this information, the data had to be prepared for processing, this included analyzing it in detail and checking its homogeneity. </p>\n",
    "\n",
    "![title](5.png)\n",
    "\n",
    "<br>\n",
    "\n",
    "<p> Having the problem and the conditions clarified, we used web scrapping to find the list of districts of the city of Lima that will later be used for its analysis. </p>\n",
    "\n",
    "<br>\n",
    "\n",
    "<p> All venues were visually represented on a color-separated map for better analysis and understanding. </p>\n",
    "\n",
    "![title](6.png)\n",
    "\n",
    "<br>\n",
    "\n",
    "<p> From this data, information was collected about the 5 most popular venues in the city of Lima. From this information it was deduced that 3 of the 5 most popular venues were related to food, so our goal to define the best location for the opening of a restaurant was on the right track.</p>\n",
    "\n",
    "![title](7.png)\n",
    "\n",
    "<br>\n",
    "\n",
    "<p> Taking this information into account, the relationship between food venues and all the districts of Lima was explored to find their frequency. This graph shows gives us notion if the restaurant market is saturated in certain districts.</p>\n",
    "\n",
    "![title](8.png)\n",
    "\n",
    "<br>\n",
    "\n",
    "<p> As we can see from the above barplot, most of the districts are already saturated with food venues. However, some others have less competition. To verify this, clustering algorithms were used, in this case K-Mean for its verification.</p>\n",
    "\n",
    "![title](9.png)\n",
    "\n",
    "<br>"
   ]
  },
  {
   "cell_type": "markdown",
   "metadata": {},
   "source": [
    "<h3 align=\"left\">Results and Discussion</h3>\n",
    "\n",
    "<p> With the clusters already defined, we were able to trace a map based on the food venues across all the districts of Lima. In which we can ascertain what we deduced from the barplot.</p>\n",
    "\n",
    "![title](10.png)\n",
    "\n",
    "<br>\n",
    "\n",
    "<p> 3 custers were defined according to the algorithm, each of the represent the concurrence of the food venues in all the districts of Lima. If we analyze each of them, we can see that the first cluster (in purple) doesn’t have any food venue, but is also located far away from the City. It’s factible to start a new food business nearby this cluster, but as said in the introductory part, other factors may be considered to make a final decision. </p>\n",
    "\n",
    "![title](11.png)\n",
    "\n",
    "<br>\n",
    "\n",
    "<p> The second cluster (in green) is very saturated of food venues, as most of the population is located in these disctricts. Due to the competition we consider it’s not factible to start a new food venue nearby these districts.</p>\n",
    "\n",
    "![title](12.png)\n",
    "\n",
    "<br>\n",
    "\n",
    "<p> Finally, regarding to the third cluster (in red) according to the information given, these districts are ideal to start a new food business due to the few competence and closeness to the main districts and main beaches in the City.</p>\n",
    "\n",
    "![title](13.png)\n",
    "\n",
    "<br>"
   ]
  },
  {
   "cell_type": "markdown",
   "metadata": {},
   "source": [
    "<h3 align=\"left\">Conclusion</h3>\n",
    "\n",
    "<p> We can conclude at the end of this project that everyday problems can be solved using the different methodologies and resources related to Data Science, making it a great tool at our disposal. As mentioned in the introduction of this project, other factors that could be decisive in the conclusion were not taken into account, however, it gives us a preliminary idea about the best way to solve the problem. </p>\n",
    "\n",
    "<br>\n"
   ]
  }
 ],
 "metadata": {
  "kernelspec": {
   "display_name": "Python",
   "language": "python",
   "name": "conda-env-python-py"
  },
  "language_info": {
   "codemirror_mode": {
    "name": "ipython",
    "version": 3
   },
   "file_extension": ".py",
   "mimetype": "text/x-python",
   "name": "python",
   "nbconvert_exporter": "python",
   "pygments_lexer": "ipython3",
   "version": "3.6.10"
  }
 },
 "nbformat": 4,
 "nbformat_minor": 4
}
